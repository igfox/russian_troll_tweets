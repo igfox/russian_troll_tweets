{
 "cells": [
  {
   "cell_type": "code",
   "execution_count": 98,
   "metadata": {},
   "outputs": [],
   "source": [
    "import pandas as pd\n",
    "import spacy\n",
    "from collections import Counter"
   ]
  },
  {
   "cell_type": "code",
   "execution_count": null,
   "metadata": {},
   "outputs": [],
   "source": [
    "nlp = spacy.load('en_core_web_lg')"
   ]
  },
  {
   "cell_type": "code",
   "execution_count": 3,
   "metadata": {},
   "outputs": [],
   "source": [
    "tweets = pd.read_csv('/data/ifox/russian_tweets_data/tweets.csv')"
   ]
  },
  {
   "cell_type": "code",
   "execution_count": 4,
   "metadata": {},
   "outputs": [],
   "source": [
    "users = pd.read_csv('/data/ifox/russian_tweets_data/users.csv')"
   ]
  },
  {
   "cell_type": "code",
   "execution_count": 14,
   "metadata": {},
   "outputs": [
    {
     "data": {
      "text/plain": [
       "0         #IslamKills Are you trying to say that there w...\n",
       "1         Clinton: Trump should’ve apologized more, atta...\n",
       "2         RT @ltapoll: Who was/is the best president of ...\n",
       "3         RT @jww372: I don't have to guess your religio...\n",
       "4         RT @Shareblue: Pence and his lawyers decided w...\n",
       "5                                    @ModicaGiunta me, too!\n",
       "6         RT @MDBlanchfield: You’ll never guess who twee...\n",
       "7         RT @100PercFEDUP: New post: WATCH: DIAMOND AND...\n",
       "8         RT @AriaWilsonGOP: 3 Women Face Charges After ...\n",
       "9         One of the ways to remind that #BlackLivesMatt...\n",
       "10        RT @ElPenguinito: #myfarewellwordswouldbe I've...\n",
       "11        RT @America_1st_: CW: \"The thing that impresse...\n",
       "12        RT @AIIAmericanGirI: 🇺🇸\\r\\nObama to add 450 Ir...\n",
       "13        Dave Chappelle: \"Black Lives Matter\" is the wo...\n",
       "14        RT @RadioACR: Chuck Todd vs Kellyanne Conway.....\n",
       "15        #My2017BiggestHope to reach this level of pett...\n",
       "16        The war is here! \\nThis gentleman made more se...\n",
       "17        RT @HipHopDX: .@Migos Scores FIRST #1 Hot 100 ...\n",
       "18        RT @LibertyBritt: He's the brilliant guy who s...\n",
       "19        RT @K1erry: The Marco Rubio knockdown of Eliza...\n",
       "20        Obama on Trump winning: 'Anything's possible' ...\n",
       "21        RT @bgg2wl: Walmart, Michelle Obama and The Ha...\n",
       "22                             it’s impossible! #TexasJihad\n",
       "23        RT @LibsNoFun: Who will wave the flag? #DayWit...\n",
       "24        Bewaffnete attackieren Bus mit koptischen Chri...\n",
       "25        The bright example of our failing education ht...\n",
       "26        @sendavidperdue How are they gonna protect us ...\n",
       "27        FC Barcelonas youth academy! La Masia doin wor...\n",
       "28        When I remember it's #Friyay https://t.co/yjBT...\n",
       "29        RT @Ladydiann2: Remove these Anti Americans fr...\n",
       "                                ...                        \n",
       "203452    Highlights from Bill Clinton's past DNC speech...\n",
       "203453    \"I wish Obama would be as nasty with enemies a...\n",
       "203454    RT @JoyAnnReid: IOW, during the primaries Kell...\n",
       "203455    So many stupid mistakes!.. Anyone but NOT Hill...\n",
       "203456    #TopNews Senate overwhelmingly rejects Obama v...\n",
       "203457      RT @nine_oh: #Twittergoons rule 10: don't hate.\n",
       "203458    RT @nonewnypd: #FreedomCities #FreedomCities\\r...\n",
       "203459    RT @nine_oh: Can Dak take his game to a new le...\n",
       "203460    Obama bombs Assad to help ISIS. MVP confirmed....\n",
       "203461    RT @daryljwalters: #GoodMorning One prayer awa...\n",
       "203462    Deutsche Rollstuhlbasketballer gewinnen EM-Bro...\n",
       "203463    RT @paul_lander: Donald Trump Mistakenly Tweet...\n",
       "203464    Trump transition tests outsider's governing ab...\n",
       "203465    If Islam is peaceful...\\nWhy are woman forced ...\n",
       "203466    Ich fand das bis zur Merkel-Diktatur in Deutsc...\n",
       "203467    RT @cut_50: Dear @potus, Eric and other nonvio...\n",
       "203468    RT @Goodluckbeer: Fentanyl filled Trump suppor...\n",
       "203469    Even a mistake can lead to a happy ending. Don...\n",
       "203470    ELECTION GUIDE: Federal and State elections ht...\n",
       "203471    RT @AHafeezMuhammad: This is Exactly why BLACK...\n",
       "203472    Obama's plan is to destroy the United States b...\n",
       "203473    RT @HistoryHeroes: Theresa A. Dear's \"Let's Ge...\n",
       "203474    RT @BuzzFeed: This 22-year-old got out of an a...\n",
       "203475    RT @littlebytesnews: #tcot #news #variety New ...\n",
       "203476                               Hubby back from Heaven\n",
       "203477    RT @AndreaChalupa: In intel circles, the story...\n",
       "203478    RT @KansasCityDNews: Tonganoxie police: Middle...\n",
       "203479    RT @signsinyork: Getting the right #company lo...\n",
       "203480    The Latest: Obama affirms continuity of ties w...\n",
       "203481    RT @futureguru100: U cant just Upload a CD onl...\n",
       "Name: text, Length: 203482, dtype: object"
      ]
     },
     "execution_count": 14,
     "metadata": {},
     "output_type": "execute_result"
    }
   ],
   "source": [
    "tweets['text']"
   ]
  },
  {
   "cell_type": "code",
   "execution_count": null,
   "metadata": {},
   "outputs": [],
   "source": [
    "wow = Counter(tweets['in_reply_to_status_id'])"
   ]
  },
  {
   "cell_type": "code",
   "execution_count": null,
   "metadata": {},
   "outputs": [],
   "source": [
    "print('yo')"
   ]
  },
  {
   "cell_type": "code",
   "execution_count": 89,
   "metadata": {},
   "outputs": [],
   "source": [
    "doc = nlp(tweets['text'][0])"
   ]
  },
  {
   "cell_type": "code",
   "execution_count": 90,
   "metadata": {},
   "outputs": [
    {
     "name": "stdout",
     "output_type": "stream",
     "text": [
      "#\n",
      "IslamKills\n",
      "Are\n",
      "you\n",
      "trying\n",
      "to\n",
      "say\n",
      "that\n",
      "there\n",
      "were\n",
      "no\n",
      "terrorist\n",
      "attacks\n",
      "in\n",
      "Europe\n",
      "before\n",
      "refugees\n",
      "were\n",
      "let\n",
      "in\n",
      "?\n"
     ]
    }
   ],
   "source": [
    "for token in doc:\n",
    "    print(token.text)"
   ]
  },
  {
   "cell_type": "code",
   "execution_count": 92,
   "metadata": {},
   "outputs": [
    {
     "data": {
      "text/plain": [
       "'XxxxxXxxxx'"
      ]
     },
     "execution_count": 92,
     "metadata": {},
     "output_type": "execute_result"
    }
   ],
   "source": [
    "doc[1].shape_"
   ]
  },
  {
   "cell_type": "code",
   "execution_count": 93,
   "metadata": {},
   "outputs": [],
   "source": [
    "from spacy import displacy"
   ]
  },
  {
   "cell_type": "code",
   "execution_count": 94,
   "metadata": {},
   "outputs": [
    {
     "data": {
      "text/html": [
       "<div class=\"entities\" style=\"line-height: 2.5\">\n",
       "<mark class=\"entity\" style=\"background: #e4e7d2; padding: 0.45em 0.6em; margin: 0 0.25em; line-height: 1; border-radius: 0.35em; box-decoration-break: clone; -webkit-box-decoration-break: clone\">\n",
       "    #\n",
       "    <span style=\"font-size: 0.8em; font-weight: bold; line-height: 1; border-radius: 0.35em; text-transform: uppercase; vertical-align: middle; margin-left: 0.5rem\">CARDINAL</span>\n",
       "</mark>\n",
       "\n",
       "<mark class=\"entity\" style=\"background: #7aecec; padding: 0.45em 0.6em; margin: 0 0.25em; line-height: 1; border-radius: 0.35em; box-decoration-break: clone; -webkit-box-decoration-break: clone\">\n",
       "    IslamKills\n",
       "    <span style=\"font-size: 0.8em; font-weight: bold; line-height: 1; border-radius: 0.35em; text-transform: uppercase; vertical-align: middle; margin-left: 0.5rem\">ORG</span>\n",
       "</mark>\n",
       " Are you trying to say that there were no terrorist attacks in \n",
       "<mark class=\"entity\" style=\"background: #ff9561; padding: 0.45em 0.6em; margin: 0 0.25em; line-height: 1; border-radius: 0.35em; box-decoration-break: clone; -webkit-box-decoration-break: clone\">\n",
       "    Europe\n",
       "    <span style=\"font-size: 0.8em; font-weight: bold; line-height: 1; border-radius: 0.35em; text-transform: uppercase; vertical-align: middle; margin-left: 0.5rem\">LOC</span>\n",
       "</mark>\n",
       " before refugees were let in?</div>"
      ],
      "text/plain": [
       "<IPython.core.display.HTML object>"
      ]
     },
     "metadata": {},
     "output_type": "display_data"
    }
   ],
   "source": [
    "displacy.render(doc, style='ent', jupyter=True)"
   ]
  },
  {
   "cell_type": "code",
   "execution_count": 61,
   "metadata": {},
   "outputs": [],
   "source": [
    "text = \"\"\"But Google is starting from behind. The company made a late push\n",
    "into hardware, and Apple’s Siri, available on iPhones, and Amazon’s Alexa\n",
    "software, which runs on its Echo and Dot devices, have clear leads in\n",
    "consumer adoption.\"\"\""
   ]
  },
  {
   "cell_type": "code",
   "execution_count": 69,
   "metadata": {},
   "outputs": [],
   "source": [
    "doc = nlp(text)"
   ]
  },
  {
   "cell_type": "code",
   "execution_count": 70,
   "metadata": {},
   "outputs": [
    {
     "data": {
      "text/plain": [
       "(Google, , Apple, Siri, iPhones, Amazon, Alexa, )"
      ]
     },
     "execution_count": 70,
     "metadata": {},
     "output_type": "execute_result"
    }
   ],
   "source": [
    "doc.ents"
   ]
  },
  {
   "cell_type": "code",
   "execution_count": 71,
   "metadata": {},
   "outputs": [
    {
     "data": {
      "text/plain": [
       "array([-4.70993519e-02,  2.54578829e-01, -1.03629626e-01, -2.52200421e-02,\n",
       "        1.16855584e-01,  2.29945183e-02,  5.01997583e-02, -1.92392468e-01,\n",
       "        7.48296380e-02,  1.74016333e+00, -1.06169671e-01, -2.20976323e-02,\n",
       "        3.32906954e-02, -5.87830544e-02, -1.28043011e-01, -4.58712466e-02,\n",
       "       -6.14662841e-02,  1.15005946e+00, -1.58946097e-01, -7.06320852e-02,\n",
       "       -5.11498936e-02,  1.16861172e-01, -3.22841369e-02, -4.27621044e-02,\n",
       "        3.73555608e-02,  3.09221726e-02, -1.25959009e-01, -3.53760086e-02,\n",
       "        4.70008105e-02, -2.16466766e-02,  2.79870369e-02, -3.52570489e-02,\n",
       "        9.51899961e-03,  1.34104595e-01,  5.15414178e-02, -5.55160046e-02,\n",
       "       -5.04804328e-02,  2.88967974e-02, -1.40607532e-03, -1.20495521e-01,\n",
       "       -4.99361288e-03,  6.50238991e-02,  1.83543842e-02, -4.17053066e-02,\n",
       "        3.11408695e-02,  6.81449100e-02, -1.23137243e-01, -9.14560631e-02,\n",
       "       -1.83218550e-02,  5.88782784e-03,  3.24165970e-02,  2.57758759e-02,\n",
       "       -1.49045393e-01,  1.40564917e-02, -2.08194740e-02, -1.02782756e-01,\n",
       "       -2.38938555e-02, -5.25929742e-02, -3.60200927e-02, -1.12538330e-01,\n",
       "        8.14727508e-03, -3.50384414e-02,  5.27458638e-02,  1.65171534e-01,\n",
       "        1.00672148e-01, -1.20168172e-01,  1.97117180e-02, -2.31189989e-02,\n",
       "        6.83016784e-04,  9.13646892e-02,  1.50928618e-02,  5.65279052e-02,\n",
       "        1.97141424e-01,  1.96021665e-02,  7.52383322e-02, -5.10230884e-02,\n",
       "        4.17065769e-02, -4.60646376e-02, -5.45647033e-02,  2.25573972e-01,\n",
       "       -1.40596814e-02,  1.05705388e-01, -2.54156049e-02, -1.60836277e-03,\n",
       "       -1.40668787e-02, -1.19266376e-01,  3.62474881e-02,  3.34006064e-02,\n",
       "        3.02172780e-01,  3.08173914e-02, -1.31062570e-03,  2.90901773e-02,\n",
       "        6.62727049e-04,  3.84825170e-02,  1.48640752e-01, -2.89469678e-02,\n",
       "        1.21550169e-02, -2.30551437e-02, -8.60845596e-02, -4.27789381e-03,\n",
       "        1.92445200e-02, -4.04158384e-02, -1.11750938e-01, -8.21361691e-03,\n",
       "       -1.49264764e-02, -6.14744961e-01,  7.77442334e-03,  4.74647284e-02,\n",
       "        1.33080572e-01, -2.25960370e-03, -4.15268801e-02, -8.12290609e-02,\n",
       "        3.11721154e-02, -1.22557886e-01, -8.24411027e-03, -2.76607182e-02,\n",
       "        7.44932294e-02, -3.88041511e-02, -2.76958593e-03,  2.43080780e-02,\n",
       "        6.26730919e-02,  7.70987421e-02,  7.85310939e-02, -6.59778714e-02,\n",
       "       -4.18733135e-02,  1.41956210e-01,  3.10061593e-02, -9.10523720e-03,\n",
       "        6.15607463e-02, -8.50065202e-02, -1.26907649e-03, -9.11166295e-02,\n",
       "        2.26604939e-02, -1.83320027e-02, -4.72937822e-02, -2.47557908e-02,\n",
       "        5.00345544e-04, -6.72841221e-02, -4.64407876e-02,  1.67901337e-03,\n",
       "       -8.88918757e-01,  9.41202864e-02,  2.10699990e-01, -1.30993783e-01,\n",
       "        1.16064679e-02,  1.28379222e-02,  9.15006176e-03,  5.12632262e-03,\n",
       "       -1.49031738e-02,  4.58481954e-03,  5.13708293e-02, -8.34332928e-02,\n",
       "        2.17624187e-01,  4.84607592e-02, -1.19653665e-01,  1.29189854e-03,\n",
       "       -9.06954110e-02,  5.10822423e-02,  4.61748196e-03, -1.99860688e-02,\n",
       "       -4.10702713e-02,  1.19458608e-01, -5.62769780e-03, -9.72942263e-02,\n",
       "       -1.41257614e-01, -5.69372997e-02,  2.56980825e-02,  4.90672141e-03,\n",
       "        1.66927934e-01,  4.46328148e-02, -2.84001953e-03,  5.98770194e-02,\n",
       "       -2.65520662e-02,  1.70214996e-02, -1.23799838e-01,  8.67375284e-02,\n",
       "       -1.07861776e-03, -2.32286118e-02, -1.25571284e-02, -1.16342641e-02,\n",
       "        5.02506942e-02, -1.02080747e-01, -4.15229946e-02, -9.21726227e-02,\n",
       "        5.38183115e-02, -2.21610051e-02,  8.00856426e-02,  2.16243835e-03,\n",
       "       -2.91540604e-02, -5.54473437e-02,  1.84362605e-02, -7.00399205e-02,\n",
       "        3.40914764e-02,  8.20629895e-02, -5.20682707e-02,  7.99572542e-02,\n",
       "       -1.00689614e-02, -5.28462119e-02, -7.60679096e-02,  1.89784884e-01,\n",
       "       -9.16973501e-02, -8.65393803e-02, -6.51696846e-02,  3.78635190e-02,\n",
       "        1.56477362e-01, -7.26397261e-02, -8.58032424e-03, -4.01814841e-02,\n",
       "        2.19461210e-02, -1.48789249e-02, -1.77076668e-01, -1.41681731e-01,\n",
       "       -4.32383269e-02, -1.06836796e-01, -2.54816469e-02,  4.33083288e-02,\n",
       "       -6.38576522e-02, -3.16507160e-03, -2.19131619e-01,  7.55236996e-03,\n",
       "        6.43265946e-03,  2.77730599e-02, -4.36462350e-02,  1.00155316e-01,\n",
       "        1.10994251e-02, -1.03571065e-01, -1.48272840e-02,  4.46032323e-02,\n",
       "        2.16599107e-02,  1.19937994e-01, -6.77270442e-02, -1.43292372e-03,\n",
       "        9.81790721e-02,  5.73486611e-02, -1.21880382e-01, -1.17541447e-01,\n",
       "        2.50467826e-02, -1.16770290e-01,  9.69338119e-02,  4.73221913e-02,\n",
       "        2.41703875e-02,  7.13944668e-04, -9.40297768e-02,  3.78277414e-02,\n",
       "        1.33022681e-01, -1.98638260e-01, -6.78270981e-02, -8.50566402e-02,\n",
       "       -9.77315158e-02,  9.49345231e-02,  5.60771376e-02, -6.95352554e-02,\n",
       "       -6.08733371e-02, -6.60727620e-02,  8.28540772e-02,  4.14048135e-02,\n",
       "        6.31865859e-02, -1.05138181e-03, -7.42427856e-02, -8.11352283e-02,\n",
       "        2.41471410e-01,  1.26464799e-01,  1.89930424e-02,  6.91462979e-02,\n",
       "        3.27505395e-02, -1.46405950e-01, -7.15035871e-02, -9.94225964e-02,\n",
       "        3.19750786e-01, -4.05355729e-02, -7.83680677e-02, -5.02230274e-03,\n",
       "       -8.45848769e-03, -4.02534343e-02, -6.64918870e-02, -8.41434449e-02,\n",
       "       -6.84880540e-02,  9.81082246e-02,  9.95168686e-02,  1.24771520e-01,\n",
       "        1.22799285e-01,  7.24150389e-02,  1.05090097e-01,  6.16094517e-03,\n",
       "       -4.21241745e-02, -1.00462288e-01,  7.25076124e-02, -4.21876162e-02,\n",
       "        7.35436678e-02, -1.42764851e-01, -3.25266242e-01,  1.78125557e-02,\n",
       "        3.70157138e-02,  6.36427477e-02, -4.85662930e-02, -5.26945256e-02,\n",
       "        6.21143356e-02, -4.24435250e-02, -9.55581293e-02,  1.77042261e-01],\n",
       "      dtype=float32)"
      ]
     },
     "execution_count": 71,
     "metadata": {},
     "output_type": "execute_result"
    }
   ],
   "source": [
    "doc.vector"
   ]
  },
  {
   "cell_type": "code",
   "execution_count": 72,
   "metadata": {},
   "outputs": [],
   "source": [
    "queen = nlp('king queen man woman.')"
   ]
  },
  {
   "cell_type": "code",
   "execution_count": 77,
   "metadata": {},
   "outputs": [],
   "source": [
    "a = queen[0].vector - queen[2].vector + queen[3].vector"
   ]
  },
  {
   "cell_type": "code",
   "execution_count": 78,
   "metadata": {},
   "outputs": [],
   "source": [
    "b = queen[1].vector"
   ]
  },
  {
   "cell_type": "code",
   "execution_count": 82,
   "metadata": {},
   "outputs": [],
   "source": [
    "import scipy\n",
    "import scipy.spatial.distance"
   ]
  },
  {
   "cell_type": "code",
   "execution_count": 83,
   "metadata": {},
   "outputs": [
    {
     "data": {
      "text/plain": [
       "0.21191561222076416"
      ]
     },
     "execution_count": 83,
     "metadata": {},
     "output_type": "execute_result"
    }
   ],
   "source": [
    "scipy.spatial.distance.cosine(a, b)"
   ]
  },
  {
   "cell_type": "code",
   "execution_count": 84,
   "metadata": {},
   "outputs": [
    {
     "name": "stdout",
     "output_type": "stream",
     "text": [
      "1.0\n",
      "0.72526103\n",
      "0.4088461\n",
      "0.26556593\n"
     ]
    },
    {
     "ename": "TypeError",
     "evalue": "'spacy.tokens.token.Token' object does not support indexing",
     "output_type": "error",
     "traceback": [
      "\u001b[0;31m---------------------------------------------------------------------------\u001b[0m",
      "\u001b[0;31mTypeError\u001b[0m                                 Traceback (most recent call last)",
      "\u001b[0;32m<ipython-input-84-074987100a6d>\u001b[0m in \u001b[0;36m<module>\u001b[0;34m()\u001b[0m\n\u001b[1;32m      1\u001b[0m \u001b[0;32mfor\u001b[0m \u001b[0mtoken1\u001b[0m \u001b[0;32min\u001b[0m \u001b[0mqueen\u001b[0m\u001b[0;34m:\u001b[0m\u001b[0;34m\u001b[0m\u001b[0m\n\u001b[1;32m      2\u001b[0m     \u001b[0;32mfor\u001b[0m \u001b[0mtoken2\u001b[0m \u001b[0;32min\u001b[0m \u001b[0mqueen\u001b[0m\u001b[0;34m:\u001b[0m\u001b[0;34m\u001b[0m\u001b[0m\n\u001b[0;32m----> 3\u001b[0;31m         \u001b[0mprint\u001b[0m\u001b[0;34m(\u001b[0m\u001b[0mtoken1\u001b[0m\u001b[0;34m.\u001b[0m\u001b[0msimilarity\u001b[0m\u001b[0;34m(\u001b[0m\u001b[0mtoken2\u001b[0m\u001b[0;34m)\u001b[0m\u001b[0;34m)\u001b[0m\u001b[0;34m\u001b[0m\u001b[0m\n\u001b[0m",
      "\u001b[0;32mtoken.pyx\u001b[0m in \u001b[0;36mspacy.tokens.token.Token.similarity\u001b[0;34m()\u001b[0m\n",
      "\u001b[0;31mTypeError\u001b[0m: 'spacy.tokens.token.Token' object does not support indexing"
     ]
    }
   ],
   "source": [
    "for token1 in queen:\n",
    "    for token2 in queen:\n",
    "        print(token1.similarity(token2))"
   ]
  },
  {
   "cell_type": "code",
   "execution_count": 87,
   "metadata": {},
   "outputs": [
    {
     "name": "stdout",
     "output_type": "stream",
     "text": [
      "king to king: 1.00\n",
      "king to queen: 0.73\n",
      "king to man: 0.41\n",
      "king to woman: 0.27\n",
      "queen to king: 0.73\n",
      "queen to queen: 1.00\n",
      "queen to man: 0.27\n",
      "queen to woman: 0.41\n",
      "man to king: 0.41\n",
      "man to queen: 0.27\n",
      "man to man: 1.00\n",
      "man to woman: 0.74\n",
      "woman to king: 0.27\n",
      "woman to queen: 0.41\n",
      "woman to man: 0.74\n",
      "woman to woman: 1.00\n"
     ]
    }
   ],
   "source": [
    "tokens = nlp(u'king queen man woman')\n",
    "\n",
    "for token1 in tokens:\n",
    "    for token2 in tokens:\n",
    "        print('{} to {}: {:.2f}'.format(token1, token2, token1.similarity(token2)))"
   ]
  },
  {
   "cell_type": "code",
   "execution_count": 88,
   "metadata": {},
   "outputs": [
    {
     "name": "stdout",
     "output_type": "stream",
     "text": [
      "dog True 7.0336733 False\n",
      "cat True 6.6808186 False\n",
      "banana True 6.700014 False\n",
      "sasquatch True 6.9789977 False\n"
     ]
    }
   ],
   "source": [
    "tokens = nlp(u'dog cat banana sasquatch')\n",
    "\n",
    "for token in tokens:\n",
    "    print(token.text, token.has_vector, token.vector_norm, token.is_oov)"
   ]
  },
  {
   "cell_type": "code",
   "execution_count": null,
   "metadata": {},
   "outputs": [],
   "source": []
  }
 ],
 "metadata": {
  "kernelspec": {
   "display_name": "Python 3",
   "language": "python",
   "name": "python3"
  },
  "language_info": {
   "codemirror_mode": {
    "name": "ipython",
    "version": 3
   },
   "file_extension": ".py",
   "mimetype": "text/x-python",
   "name": "python",
   "nbconvert_exporter": "python",
   "pygments_lexer": "ipython3",
   "version": "3.6.1"
  }
 },
 "nbformat": 4,
 "nbformat_minor": 2
}
